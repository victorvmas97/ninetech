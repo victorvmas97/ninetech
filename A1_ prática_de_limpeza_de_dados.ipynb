{
  "cells": [
    {
      "cell_type": "markdown",
      "metadata": {
        "id": "view-in-github",
        "colab_type": "text"
      },
      "source": [
        "<a href=\"https://colab.research.google.com/github/victorvmas97/ninetech/blob/main/A1_%20pr%C3%A1tica_de_limpeza_de_dados.ipynb\" target=\"_parent\"><img src=\"https://colab.research.google.com/assets/colab-badge.svg\" alt=\"Open In Colab\"/></a>"
      ]
    },
    {
      "cell_type": "code",
      "execution_count": null,
      "metadata": {
        "id": "hkHYeNq1Iww3"
      },
      "outputs": [],
      "source": [
        "import pandas as pd\n",
        "import seaborn as srn\n",
        "import statistics  as sts"
      ]
    },
    {
      "cell_type": "code",
      "execution_count": null,
      "metadata": {
        "id": "xqDM899sIww5"
      },
      "outputs": [],
      "source": [
        "#importar dados\n",
        "dataset = pd.read_excel(\" \")\n",
        "#visulizar\n",
        "dataset.head()"
      ]
    },
    {
      "cell_type": "code",
      "source": [
        "dataset.shape"
      ],
      "metadata": {
        "id": "_XCltwLNJuql"
      },
      "execution_count": null,
      "outputs": []
    },
    {
      "cell_type": "code",
      "source": [
        "# Informaçoes sobre a base:\n",
        "dataset.info()"
      ],
      "metadata": {
        "id": "xVnTjlg4yIAd"
      },
      "execution_count": null,
      "outputs": []
    },
    {
      "cell_type": "code",
      "execution_count": null,
      "metadata": {
        "id": "1LpoviqOIww_"
      },
      "outputs": [],
      "source": [
        "#Umidade\n",
        "dataset['Umidade'].describe()"
      ]
    },
    {
      "cell_type": "code",
      "execution_count": null,
      "metadata": {
        "id": "bj3IxnJ0Iww_"
      },
      "outputs": [],
      "source": [
        "srn.distplot(dataset['Umidade']).set_title('Umidade')"
      ]
    },
    {
      "cell_type": "code",
      "execution_count": null,
      "metadata": {
        "id": "UJzLZap0IwxA"
      },
      "outputs": [],
      "source": [
        "#contamos valores NAN\n",
        "dataset.isnull().sum()"
      ]
    },
    {
      "cell_type": "code",
      "execution_count": null,
      "metadata": {
        "id": "U_IszdB0IwxA"
      },
      "outputs": [],
      "source": [
        "#aparencia valor invalido\n",
        "agrupado = dataset.groupby(['Aparencia']).size()\n",
        "agrupado"
      ]
    },
    {
      "cell_type": "code",
      "execution_count": null,
      "metadata": {
        "id": "9XwIN0KvIwxA"
      },
      "outputs": [],
      "source": [
        "dataset.loc[dataset['Aparencia'] ==  'menos', 'Aparencia'] = \"sol\"\n",
        "#visualiza o resultado\n",
        "agrupado = dataset.groupby(['Aparencia']).size()\n",
        "agrupado"
      ]
    },
    {
      "cell_type": "code",
      "execution_count": null,
      "metadata": {
        "id": "WTCcJ-h9IwxB"
      },
      "outputs": [],
      "source": [
        "#temperatura fora do dominio\n",
        "dataset['Temperatura'].describe()"
      ]
    },
    {
      "cell_type": "code",
      "execution_count": null,
      "metadata": {
        "id": "S2vor3fhIwxC"
      },
      "outputs": [],
      "source": [
        "#visualizar\n",
        "dataset.loc[(dataset['Sleep efficiency'] ==  1220 ) ]"
      ]
    },
    {
      "cell_type": "code",
      "execution_count": null,
      "metadata": {
        "id": "e7TaxK4EIwxB"
      },
      "outputs": [],
      "source": [
        "#calular a mediana\n",
        "mediana = sts.median(dataset['Temperatura'])\n",
        "mediana"
      ]
    },
    {
      "cell_type": "code",
      "execution_count": null,
      "metadata": {
        "id": "XACKad0WIwxC"
      },
      "outputs": [],
      "source": [
        "#substituir\n",
        "\n",
        "dataset.loc[(dataset['Temperatura'] >1000), 'Temperatura'] = mediana\n",
        "dataset['Temperatura'].describe()"
      ]
    },
    {
      "cell_type": "code",
      "execution_count": null,
      "metadata": {
        "id": "nVmalSPoIwxD"
      },
      "outputs": [],
      "source": [
        "#umidade, dominio e NAs\n",
        "dataset['Umidade'].describe()"
      ]
    },
    {
      "cell_type": "code",
      "execution_count": null,
      "metadata": {
        "id": "vfjgfrQCIwxD"
      },
      "outputs": [],
      "source": [
        "#total de Nas\n",
        "dataset['Umidade'].isnull().sum()"
      ]
    },
    {
      "cell_type": "code",
      "execution_count": null,
      "metadata": {
        "id": "CzFPZNJ8IwxD"
      },
      "outputs": [],
      "source": [
        "#calular a mediana\n",
        "mediana = sts.median(dataset['Umidade'])\n",
        "mediana"
      ]
    },
    {
      "cell_type": "code",
      "execution_count": null,
      "metadata": {
        "id": "XpLWnXcPIwxE"
      },
      "outputs": [],
      "source": [
        "#preenche NAs\n",
        "dataset['Umidade'].fillna(mediana, inplace=True)"
      ]
    },
    {
      "cell_type": "code",
      "execution_count": null,
      "metadata": {
        "id": "h64BWwNoIwxE"
      },
      "outputs": [],
      "source": [
        "dataset['Umidade'].isnull().sum()"
      ]
    },
    {
      "cell_type": "code",
      "execution_count": null,
      "metadata": {
        "id": "dXn3h6q6IwxE"
      },
      "outputs": [],
      "source": [
        "#visuliza de acordo com o dominio de acordo com o dominio\n",
        "dataset.loc[(dataset['Umidade'] <  0 )  | ( dataset['Umidade'] >  100) ]"
      ]
    },
    {
      "cell_type": "code",
      "execution_count": null,
      "metadata": {
        "id": "uyC6pwl7IwxF"
      },
      "outputs": [],
      "source": [
        "#atualiza comm mediana\n",
        "dataset.loc[(dataset['Umidade'] <  0 )  | ( dataset['Umidade'] >  100), 'Umidade'] = mediana"
      ]
    },
    {
      "cell_type": "code",
      "execution_count": null,
      "metadata": {
        "id": "bPDsRIRjIwxF"
      },
      "outputs": [],
      "source": [
        "#visuliza novamente\n",
        "dataset.loc[(dataset['Umidade'] <  0 )  | ( dataset['Umidade'] >  100) ]"
      ]
    },
    {
      "cell_type": "code",
      "execution_count": null,
      "metadata": {
        "id": "PY8R_Yo5IwxF"
      },
      "outputs": [],
      "source": [
        "#Ventos\n",
        "agrupado = dataset.groupby(['Vento']).size()\n",
        "agrupado"
      ]
    },
    {
      "cell_type": "code",
      "execution_count": null,
      "metadata": {
        "id": "2vYpotHDIwxF"
      },
      "outputs": [],
      "source": [
        "#total de Nas\n",
        "dataset['Vento'].isnull().sum()"
      ]
    },
    {
      "cell_type": "code",
      "execution_count": null,
      "metadata": {
        "id": "6Fy-zjATIwxG"
      },
      "outputs": [],
      "source": [
        "#preenche NAs\n",
        "dataset['Vento'].fillna('FALSO', inplace=True)"
      ]
    },
    {
      "cell_type": "code",
      "execution_count": null,
      "metadata": {
        "id": "dd0a9BG8IwxG"
      },
      "outputs": [],
      "source": [
        "#total de Nas\n",
        "dataset['Vento'].isnull().sum()"
      ]
    },
    {
      "cell_type": "code",
      "execution_count": null,
      "metadata": {
        "id": "GmMstknBIwxG"
      },
      "outputs": [],
      "source": [
        "dataset.head(14)"
      ]
    },
    {
      "cell_type": "code",
      "execution_count": null,
      "metadata": {
        "id": "-6OaSW3BIwxG"
      },
      "outputs": [],
      "source": [
        "dataset.describe()"
      ]
    }
  ],
  "metadata": {
    "kernelspec": {
      "display_name": "Python 3",
      "language": "python",
      "name": "python3"
    },
    "language_info": {
      "codemirror_mode": {
        "name": "ipython",
        "version": 3
      },
      "file_extension": ".py",
      "mimetype": "text/x-python",
      "name": "python",
      "nbconvert_exporter": "python",
      "pygments_lexer": "ipython3",
      "version": "3.7.6"
    },
    "colab": {
      "provenance": [],
      "include_colab_link": true
    }
  },
  "nbformat": 4,
  "nbformat_minor": 0
}